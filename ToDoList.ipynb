{
 "cells": [
  {
   "cell_type": "markdown",
   "metadata": {},
   "source": [
    "# Agile todo list:\n",
    "This is a rough framework of the tasks that we need to complete to finish DATA 607 finall assignment.\n",
    "\n",
    "### Links:\n",
    "* [The Competiton](https://www.kaggle.com/c/kkbox-music-recommendation-challenge)\n",
    "* [Neo4J for faster computing](https://neo4j.com/download-thanks-desktop/?edition=desktop&flavour=osx&release=1.0.4)\n",
    "* [Neo4J for faster recomenders](https://neo4j.com/developer/guide-build-a-recommendation-engine/)\n",
    "* [Collaberative filtering systems](https://blog.dominodatalab.com/recommender-systems-collaborative-filtering/)\n",
    "* [Great blog post of matrix factorization for recommender systems](http://www.benfrederickson.com/matrix-factorization/)\n",
    "* [Another great post on distance metrics](http://www.benfrederickson.com/distance-metrics/)\n",
    "\n",
    "### Divison of tasks \n",
    "Please write your name under the tasks that you think you would be good for. Parrell tasks will be marked.\n",
    "\n",
    "### New tasks:\n",
    "Please insert any new task as you see fit.\n",
    "\n"
   ]
  },
  {
   "cell_type": "code",
   "execution_count": null,
   "metadata": {},
   "outputs": [],
   "source": []
  }
 ],
 "metadata": {
  "kernelspec": {
   "display_name": "Python 3",
   "language": "python",
   "name": "python3"
  },
  "language_info": {
   "codemirror_mode": {
    "name": "ipython",
    "version": 3
   },
   "file_extension": ".py",
   "mimetype": "text/x-python",
   "name": "python",
   "nbconvert_exporter": "python",
   "pygments_lexer": "ipython3",
   "version": "3.6.0"
  }
 },
 "nbformat": 4,
 "nbformat_minor": 2
}
